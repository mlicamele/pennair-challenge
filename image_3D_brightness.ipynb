{
 "cells": [
  {
   "cell_type": "markdown",
   "id": "542e2b3e",
   "metadata": {},
   "source": [
    "Imports"
   ]
  },
  {
   "cell_type": "code",
   "execution_count": 72,
   "id": "8a0b033b",
   "metadata": {},
   "outputs": [],
   "source": [
    "import cv2\n",
    "import numpy as np\n",
    "import os"
   ]
  },
  {
   "cell_type": "code",
   "execution_count": 73,
   "id": "92d1cc93",
   "metadata": {},
   "outputs": [],
   "source": [
    "show_steps = False"
   ]
  },
  {
   "cell_type": "markdown",
   "id": "d21949c9",
   "metadata": {},
   "source": [
    "Constants"
   ]
  },
  {
   "cell_type": "code",
   "execution_count": 74,
   "id": "8145578c",
   "metadata": {},
   "outputs": [],
   "source": [
    "# Intrinsic Matrix\n",
    "K = np.array([[2564.3186869, 0, 0], [0, 2569.70273111, 0], [0, 0, 1]])\n",
    "\n",
    "# Circle Radius\n",
    "R = 10.0"
   ]
  },
  {
   "cell_type": "markdown",
   "id": "54b4b20c",
   "metadata": {},
   "source": [
    "Function"
   ]
  },
  {
   "cell_type": "code",
   "execution_count": 75,
   "id": "1caa6fd8",
   "metadata": {},
   "outputs": [],
   "source": [
    "def find_most_circular_contour(contours):\n",
    "\n",
    "    best_circularity = 0\n",
    "    best_contour = None\n",
    "    best_index = -1\n",
    "    \n",
    "    for i, contour in enumerate(contours):\n",
    "        area = cv2.contourArea(contour)\n",
    "        perimeter = cv2.arcLength(contour, True)\n",
    "        \n",
    "        if perimeter > 0 and area > 500:  \n",
    "            circularity = 4 * np.pi * area / (perimeter * perimeter)\n",
    "            \n",
    "            if circularity > best_circularity:\n",
    "                best_circularity = circularity\n",
    "                best_contour = contour\n",
    "                best_index = i\n",
    "    \n",
    "    return best_contour, best_circularity, best_index"
   ]
  },
  {
   "cell_type": "code",
   "execution_count": 76,
   "id": "47958261",
   "metadata": {},
   "outputs": [],
   "source": [
    "def calculate_3d_coordinates(contours, centers, camera_matrix, circle_radius):\n",
    "\n",
    "    coordinates_3d = []\n",
    "    reference_depth = None\n",
    "    \n",
    "    # Extract camera parameters\n",
    "    fx = camera_matrix[0, 0]\n",
    "    fy = camera_matrix[1, 1]\n",
    "    cx = camera_matrix[0, 2]\n",
    "    cy = camera_matrix[1, 2]\n",
    "    \n",
    "    # Find the most circular contour\n",
    "    circle_contour, circularity, circle_index = find_most_circular_contour(contours)\n",
    "    \n",
    "    if circle_contour is not None and circularity > 0.8:\n",
    "\n",
    "        # Calculate depth from the most circular object\n",
    "        area = cv2.contourArea(circle_contour)\n",
    "        radius_pixels = np.sqrt(area / np.pi)\n",
    "        \n",
    "        # Calculate reference depth\n",
    "        reference_depth = (fx * circle_radius) / radius_pixels\n",
    "            \n",
    "    else:\n",
    "\n",
    "        # Default depth\n",
    "        reference_depth = 100.0 \n",
    "    \n",
    "    # Calculate 3D coordinates for all shapes using reference depth\n",
    "    for i, (contour, center) in enumerate(zip(contours, centers)):\n",
    "\n",
    "        # Image coordinates\n",
    "        u, v = center  \n",
    "        \n",
    "        # Calculate 3D coordinates\n",
    "        Z = reference_depth\n",
    "        X = (u - cx) * Z / fx\n",
    "        Y = (v - cy) * Z / fy\n",
    "        coordinates_3d.append((X, Y, Z))\n",
    "    \n",
    "    return coordinates_3d, circle_index"
   ]
  },
  {
   "cell_type": "code",
   "execution_count": 77,
   "id": "55b19ddd",
   "metadata": {},
   "outputs": [],
   "source": [
    "def draw_3d_annotations(frame, contours, centers, coordinates_3d, circle_index=-1):\n",
    "    \n",
    "    result_frame = frame.copy()\n",
    "    \n",
    "    # Draw contours\n",
    "    cv2.drawContours(result_frame, contours, -1, (0, 255, 0), 2)\n",
    "    \n",
    "    for i, (contour, center, coord_3d) in enumerate(zip(contours, centers, coordinates_3d)):\n",
    "        cx, cy = center\n",
    "        X, Y, Z = coord_3d\n",
    "        \n",
    "        # Get bounding box for text placement\n",
    "        x, y, w, h = cv2.boundingRect(contour)\n",
    "        \n",
    "        # Draw center\n",
    "        cv2.circle(result_frame, center, 5, (255, 255, 255), -1)\n",
    "\n",
    "        # Place 3D coordinates\n",
    "        text_3d = f\"({X:.1f},{Y:.1f},{Z:.1f})\"\n",
    "        cv2.putText(result_frame, text_3d, (cx - 80, y + h + 50), cv2.FONT_HERSHEY_SIMPLEX, 0.7, (255, 255, 255), 2)\n",
    "    \n",
    "    return result_frame"
   ]
  },
  {
   "cell_type": "markdown",
   "id": "0188fbff",
   "metadata": {},
   "source": [
    "Load Image"
   ]
  },
  {
   "cell_type": "code",
   "execution_count": 78,
   "id": "aa695601",
   "metadata": {},
   "outputs": [],
   "source": [
    "file_dir = \"data\"\n",
    "file_name = \"PennAir 2024 App Static.png\"\n",
    "file = os.path.join(file_dir, file_name)"
   ]
  },
  {
   "cell_type": "code",
   "execution_count": 79,
   "id": "9fee30f2",
   "metadata": {},
   "outputs": [],
   "source": [
    "# Load image\n",
    "img = cv2.imread(file)"
   ]
  },
  {
   "cell_type": "code",
   "execution_count": 80,
   "id": "5f2e08eb",
   "metadata": {},
   "outputs": [],
   "source": [
    "img = cv2.resize(img, (1920, 1080))"
   ]
  },
  {
   "cell_type": "code",
   "execution_count": 81,
   "id": "85b046d9",
   "metadata": {},
   "outputs": [],
   "source": [
    "width = img.shape[1]\n",
    "height = img.shape[0]"
   ]
  },
  {
   "cell_type": "code",
   "execution_count": 82,
   "id": "cb25d724",
   "metadata": {},
   "outputs": [],
   "source": [
    "if show_steps:\n",
    "    # Display original image\n",
    "    cv2.imshow(\"Original\", img)\n",
    "    cv2.waitKey(0)\n",
    "    cv2.destroyAllWindows()\n",
    "    cv2.waitKey(1)"
   ]
  },
  {
   "cell_type": "markdown",
   "id": "b68f83c1",
   "metadata": {},
   "source": [
    "Update K"
   ]
  },
  {
   "cell_type": "code",
   "execution_count": 83,
   "id": "254f885b",
   "metadata": {},
   "outputs": [],
   "source": [
    "# Update camera matrix principal point if not provided\n",
    "# (Usually cx = width/2, cy = height/2)\n",
    "K_updated = K.copy()\n",
    "if K_updated[0, 2] == 0:  # If cx not set\n",
    "    K_updated[0, 2] = width / 2\n",
    "if K_updated[1, 2] == 0:  # If cy not set\n",
    "    K_updated[1, 2] = height / 2"
   ]
  },
  {
   "cell_type": "markdown",
   "id": "8779230d",
   "metadata": {},
   "source": [
    "Binary Value (Brightness)"
   ]
  },
  {
   "cell_type": "code",
   "execution_count": 84,
   "id": "54edb405",
   "metadata": {},
   "outputs": [],
   "source": [
    "# Convert to Hue Saturation Value format\n",
    "hsv_img = cv2.cvtColor(img, cv2.COLOR_BGR2HSV)"
   ]
  },
  {
   "cell_type": "code",
   "execution_count": 85,
   "id": "ee28bdc8",
   "metadata": {},
   "outputs": [],
   "source": [
    "# Extract only Value (Brightness)\n",
    "val_img = hsv_img[:,:,2]\n",
    "\n",
    "# Set brightness threshold x\n",
    "x = 140\n",
    "_, bin_val_img = cv2.threshold(val_img, x, 255, cv2.THRESH_BINARY)"
   ]
  },
  {
   "cell_type": "code",
   "execution_count": 86,
   "id": "cc1e80f2",
   "metadata": {},
   "outputs": [],
   "source": [
    "if show_steps:\n",
    "    # Display binary value image\n",
    "    cv2.imshow(\"Binary Value (Brightness)\", bin_val_img)\n",
    "    cv2.waitKey(0)\n",
    "    cv2.destroyAllWindows()\n",
    "    cv2.waitKey(1)"
   ]
  },
  {
   "cell_type": "code",
   "execution_count": 87,
   "id": "cf1266a0",
   "metadata": {},
   "outputs": [],
   "source": [
    "# Clean up w/ morphological operations\n",
    "kernel = cv2.getStructuringElement(cv2.MORPH_ELLIPSE, (5, 5))\n",
    "\n",
    "# Remove noise\n",
    "smoothed_img = cv2.morphologyEx(bin_val_img, cv2.MORPH_OPEN, kernel)\n",
    "\n",
    "# Fill gaps + smooth edges\n",
    "smoothed_img = cv2.morphologyEx(smoothed_img, cv2.MORPH_CLOSE, kernel)\n",
    "\n",
    "# Smooth edges again\n",
    "smoothed_img = cv2.medianBlur(smoothed_img, 5)"
   ]
  },
  {
   "cell_type": "code",
   "execution_count": 88,
   "id": "5b12ccb5",
   "metadata": {},
   "outputs": [],
   "source": [
    "if show_steps:\n",
    "    # Display smoothed binary value image\n",
    "    cv2.imshow(\"Smoothed Binary Value (Brightness)\", smoothed_img)\n",
    "    cv2.waitKey(0)\n",
    "    cv2.destroyAllWindows()\n",
    "    cv2.waitKey(1)"
   ]
  },
  {
   "cell_type": "markdown",
   "id": "293c0977",
   "metadata": {},
   "source": [
    "Find/Draw Outlines and Centers"
   ]
  },
  {
   "cell_type": "code",
   "execution_count": 89,
   "id": "2892140a",
   "metadata": {},
   "outputs": [],
   "source": [
    "contours, _ = cv2.findContours(smoothed_img, cv2.RETR_EXTERNAL, cv2.CHAIN_APPROX_SIMPLE)"
   ]
  },
  {
   "cell_type": "code",
   "execution_count": 90,
   "id": "8a1b4b88",
   "metadata": {},
   "outputs": [],
   "source": [
    "# Remove noise\n",
    "filtered_contours = []\n",
    "for contour in contours:\n",
    "    area = cv2.contourArea(contour)\n",
    "    # How much noise to filter\n",
    "    if area > 500:\n",
    "        filtered_contours.append(contour)"
   ]
  },
  {
   "cell_type": "code",
   "execution_count": 91,
   "id": "766bf8f4",
   "metadata": {},
   "outputs": [],
   "source": [
    "# Calculate centers of contours\n",
    "centers = []\n",
    "for contour in filtered_contours:\n",
    "    # Calculate moments\n",
    "    M = cv2.moments(contour)\n",
    "    if M[\"m00\"] != 0: \n",
    "        cx = int(M[\"m10\"] / M[\"m00\"])  # x coord\n",
    "        cy = int(M[\"m01\"] / M[\"m00\"])  # y coord\n",
    "        centers.append((cx, cy))"
   ]
  },
  {
   "cell_type": "code",
   "execution_count": 92,
   "id": "463e92a8",
   "metadata": {},
   "outputs": [],
   "source": [
    "# Copy original image to draw on\n",
    "result = img.copy()\n",
    "\n",
    "# Calculate 3D coordinates and get index in list of contours of most circular object\n",
    "coordinates_3d, circle_index = calculate_3d_coordinates(filtered_contours, centers, K_updated, R)\n",
    "\n",
    "# Draw results with 3D annotations\n",
    "result = draw_3d_annotations(result, filtered_contours, centers, coordinates_3d, circle_index)"
   ]
  },
  {
   "cell_type": "code",
   "execution_count": 93,
   "id": "c8123784",
   "metadata": {},
   "outputs": [],
   "source": [
    "if show_steps:\n",
    "    # Display Result\n",
    "    cv2.imshow(\"Result\", result)\n",
    "    cv2.waitKey(0)\n",
    "    cv2.destroyAllWindows()\n",
    "    cv2.waitKey(1)"
   ]
  },
  {
   "cell_type": "markdown",
   "id": "16dda2ce",
   "metadata": {},
   "source": [
    "Save Annotated Image to Output Folder"
   ]
  },
  {
   "cell_type": "code",
   "execution_count": 94,
   "id": "3162fdd0",
   "metadata": {},
   "outputs": [],
   "source": [
    "output_dir = os.path.join(\"output\", \"brightness\")\n",
    "output_name = f\"annotated_3D_{file_name}\"\n",
    "output = os.path.join(output_dir, output_name)"
   ]
  },
  {
   "cell_type": "code",
   "execution_count": 95,
   "id": "b12b9350",
   "metadata": {},
   "outputs": [
    {
     "data": {
      "text/plain": [
       "True"
      ]
     },
     "execution_count": 95,
     "metadata": {},
     "output_type": "execute_result"
    }
   ],
   "source": [
    "cv2.imwrite(output, result)"
   ]
  }
 ],
 "metadata": {
  "kernelspec": {
   "display_name": "3.12.2",
   "language": "python",
   "name": "python3"
  },
  "language_info": {
   "codemirror_mode": {
    "name": "ipython",
    "version": 3
   },
   "file_extension": ".py",
   "mimetype": "text/x-python",
   "name": "python",
   "nbconvert_exporter": "python",
   "pygments_lexer": "ipython3",
   "version": "3.12.2"
  }
 },
 "nbformat": 4,
 "nbformat_minor": 5
}
