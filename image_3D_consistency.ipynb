{
 "cells": [
  {
   "cell_type": "markdown",
   "id": "3ae1b9d3",
   "metadata": {},
   "source": [
    "Imports"
   ]
  },
  {
   "cell_type": "code",
   "execution_count": 25,
   "id": "249e71c9",
   "metadata": {},
   "outputs": [],
   "source": [
    "import cv2\n",
    "import numpy as np\n",
    "import os"
   ]
  },
  {
   "cell_type": "code",
   "execution_count": 26,
   "id": "56e5e5f8",
   "metadata": {},
   "outputs": [],
   "source": [
    "show_steps = False"
   ]
  },
  {
   "cell_type": "markdown",
   "id": "001df8d7",
   "metadata": {},
   "source": [
    "Constants"
   ]
  },
  {
   "cell_type": "code",
   "execution_count": 27,
   "id": "f2b8e67a",
   "metadata": {},
   "outputs": [],
   "source": [
    "# Intrinsic Matrix\n",
    "K = np.array([[2564.3186869, 0, 0], [0, 2569.70273111, 0], [0, 0, 1]])\n",
    "\n",
    "# Circle Radius\n",
    "R = 10.0"
   ]
  },
  {
   "cell_type": "markdown",
   "id": "b77adc23",
   "metadata": {},
   "source": [
    "Functions"
   ]
  },
  {
   "cell_type": "code",
   "execution_count": 28,
   "id": "b854b817",
   "metadata": {},
   "outputs": [],
   "source": [
    "def find_most_circular_contour(contours):\n",
    "\n",
    "    best_circularity = 0\n",
    "    best_contour = None\n",
    "    best_index = -1\n",
    "    \n",
    "    for i, contour in enumerate(contours):\n",
    "        area = cv2.contourArea(contour)\n",
    "        perimeter = cv2.arcLength(contour, True)\n",
    "        \n",
    "        if perimeter > 0 and area > 500:  \n",
    "            circularity = 4 * np.pi * area / (perimeter * perimeter)\n",
    "            \n",
    "            if circularity > best_circularity:\n",
    "                best_circularity = circularity\n",
    "                best_contour = contour\n",
    "                best_index = i\n",
    "    \n",
    "    return best_contour, best_circularity, best_index"
   ]
  },
  {
   "cell_type": "code",
   "execution_count": 29,
   "id": "07976dfb",
   "metadata": {},
   "outputs": [],
   "source": [
    "def calculate_3d_coordinates(contours, centers, camera_matrix, circle_radius):\n",
    "\n",
    "    coordinates_3d = []\n",
    "    reference_depth = None\n",
    "    \n",
    "    # Extract camera parameters\n",
    "    fx = camera_matrix[0, 0]\n",
    "    fy = camera_matrix[1, 1]\n",
    "    cx = camera_matrix[0, 2]\n",
    "    cy = camera_matrix[1, 2]\n",
    "    \n",
    "    # Find the most circular contour\n",
    "    circle_contour, circularity, circle_index = find_most_circular_contour(contours)\n",
    "    \n",
    "    if circle_contour is not None and circularity > 0.8:\n",
    "\n",
    "        # Calculate depth from the most circular object\n",
    "        area = cv2.contourArea(circle_contour)\n",
    "        radius_pixels = np.sqrt(area / np.pi)\n",
    "        \n",
    "        # Calculate reference depth\n",
    "        reference_depth = (fx * circle_radius) / radius_pixels\n",
    "            \n",
    "    else:\n",
    "\n",
    "        # Default depth\n",
    "        reference_depth = 100.0 \n",
    "    \n",
    "    # Calculate 3D coordinates for all shapes using reference depth\n",
    "    for i, (contour, center) in enumerate(zip(contours, centers)):\n",
    "\n",
    "        # Image coordinates\n",
    "        u, v = center  \n",
    "        \n",
    "        # Calculate 3D coordinates\n",
    "        Z = reference_depth\n",
    "        X = (u - cx) * Z / fx\n",
    "        Y = (v - cy) * Z / fy\n",
    "        coordinates_3d.append((X, Y, Z))\n",
    "    \n",
    "    return coordinates_3d, circle_index"
   ]
  },
  {
   "cell_type": "code",
   "execution_count": 30,
   "id": "b57f2e38",
   "metadata": {},
   "outputs": [],
   "source": [
    "def draw_3d_annotations(frame, contours, centers, coordinates_3d, circle_index=-1):\n",
    "    \n",
    "    result_frame = frame.copy()\n",
    "    \n",
    "    # Draw contours\n",
    "    cv2.drawContours(result_frame, contours, -1, (0, 255, 0), 2)\n",
    "    \n",
    "    for i, (contour, center, coord_3d) in enumerate(zip(contours, centers, coordinates_3d)):\n",
    "        cx, cy = center\n",
    "        X, Y, Z = coord_3d\n",
    "        \n",
    "        # Get bounding box for text placement\n",
    "        x, y, w, h = cv2.boundingRect(contour)\n",
    "        \n",
    "        # Draw center\n",
    "        cv2.circle(result_frame, center, 5, (255, 255, 255), -1)\n",
    "\n",
    "        # Place 3D coordinates\n",
    "        text_3d = f\"({X:.1f},{Y:.1f},{Z:.1f})\"\n",
    "        cv2.putText(result_frame, text_3d, (cx - 80, y + h + 50), cv2.FONT_HERSHEY_SIMPLEX, 0.7, (255, 255, 255), 2)\n",
    "    \n",
    "    return result_frame"
   ]
  },
  {
   "cell_type": "code",
   "execution_count": 31,
   "id": "d9e3de88",
   "metadata": {},
   "outputs": [],
   "source": [
    "def edge_consistency_mask(gray):\n",
    "    \n",
    "    # Find edges\n",
    "    edges = cv2.Canny(gray, 50, 150)\n",
    "    \n",
    "    # Dilate edges to create boundaries\n",
    "    kernel = cv2.getStructuringElement(cv2.MORPH_ELLIPSE, (5, 5))\n",
    "    edge_dilated = cv2.dilate(edges, kernel, iterations=1)\n",
    "    \n",
    "    # Invert \n",
    "    consistent_mask = cv2.bitwise_not(edge_dilated)\n",
    "    \n",
    "    return consistent_mask"
   ]
  },
  {
   "cell_type": "code",
   "execution_count": 32,
   "id": "5b364c58",
   "metadata": {},
   "outputs": [],
   "source": [
    "def remove_noise_and_erode(noise_mask):\n",
    "\n",
    "    # Removes noise\n",
    "    noise_kernel = cv2.getStructuringElement(cv2.MORPH_ELLIPSE, (7, 7))\n",
    "    no_noise_mask = cv2.morphologyEx(noise_mask, cv2.MORPH_OPEN, noise_kernel, iterations=1)\n",
    "\n",
    "    # Erode to separate shapes connected to random blotches\n",
    "    erosion_kernel = cv2.getStructuringElement(cv2.MORPH_ELLIPSE, (15, 15))\n",
    "    eroded_mask = cv2.erode(no_noise_mask, erosion_kernel, iterations=2)\n",
    "\n",
    "    return eroded_mask"
   ]
  },
  {
   "cell_type": "code",
   "execution_count": 33,
   "id": "8ace9378",
   "metadata": {},
   "outputs": [],
   "source": [
    "def smooth_mask_and_fill_gaps(unsmoothed_mask):\n",
    "    \n",
    "    smoothing_kernel = cv2.getStructuringElement(cv2.MORPH_ELLIPSE, (5, 5))\n",
    "\n",
    "    # Fill the gaps and smooth the edges\n",
    "    filled_gaps_mask = cv2.morphologyEx(unsmoothed_mask, cv2.MORPH_CLOSE, smoothing_kernel)\n",
    "\n",
    "    # Smooth more with blur\n",
    "    smoothed_mask = cv2.medianBlur(filled_gaps_mask, 15)\n",
    "\n",
    "    return smoothed_mask"
   ]
  },
  {
   "cell_type": "code",
   "execution_count": 34,
   "id": "bf4fc41c",
   "metadata": {},
   "outputs": [],
   "source": [
    "def heavy_erode(non_eroded_mask):\n",
    "    \n",
    "    kernel = cv2.getStructuringElement(cv2.MORPH_ELLIPSE, (9, 9))\n",
    "\n",
    "    # Remove small noise while keeping size of surviving shapes\n",
    "    opened_mask = cv2.morphologyEx(non_eroded_mask, cv2.MORPH_OPEN, kernel, iterations=3)\n",
    "\n",
    "    # Heavy erosion to separate shapes\n",
    "    separated_mask = cv2.erode(opened_mask, kernel, iterations=7)\n",
    "\n",
    "    return separated_mask"
   ]
  },
  {
   "cell_type": "code",
   "execution_count": 35,
   "id": "fd6b5ee0",
   "metadata": {},
   "outputs": [],
   "source": [
    "def filter_countours_compactness(old_mask, contours, min_area=500, max_compactness=55, min_perimeter=0):\n",
    "\n",
    "    # Create empty mask from old mask shape\n",
    "    new_mask = np.zeros_like(old_mask)\n",
    "\n",
    "    for contour in contours:\n",
    "\n",
    "        # Get area/perimeter for each contour\n",
    "        area = cv2.contourArea(contour)\n",
    "        perimeter = cv2.arcLength(contour, True)\n",
    "        \n",
    "        # Filter by area and compactness of shape\n",
    "        if area > min_area and perimeter > min_perimeter and (perimeter * perimeter) / area < max_compactness:\n",
    "            # Draw passing contours on new mask\n",
    "            cv2.fillPoly(new_mask, [contour], 255)\n",
    "    \n",
    "    return new_mask"
   ]
  },
  {
   "cell_type": "code",
   "execution_count": 36,
   "id": "a8490b21",
   "metadata": {},
   "outputs": [],
   "source": [
    "def dilate_to_undo_erosion(clean_mask):\n",
    "\n",
    "    # Undo erosion that filled gaps\n",
    "    erosion_kernel = cv2.getStructuringElement(cv2.MORPH_ELLIPSE, (15, 15))\n",
    "    final_mask = cv2.dilate(clean_mask, erosion_kernel, iterations=2)\n",
    "\n",
    "    # Undo heavy erosion that separated shapes\n",
    "    kernel = cv2.getStructuringElement(cv2.MORPH_ELLIPSE, (9, 9))\n",
    "    final_mask = cv2.dilate(final_mask, kernel, iterations=7)\n",
    "\n",
    "    return final_mask"
   ]
  },
  {
   "cell_type": "code",
   "execution_count": 37,
   "id": "eed6c2b9",
   "metadata": {},
   "outputs": [],
   "source": [
    "def get_rigid_contours(contours, epsilon_size=0.01):\n",
    "\n",
    "    rigid_contours = []\n",
    "\n",
    "    for contour in contours:\n",
    "        \n",
    "        # Approximate contour with fewer points\n",
    "        epsilon = epsilon_size * cv2.arcLength(contour, True)\n",
    "        approx = cv2.approxPolyDP(contour, epsilon, True)\n",
    "        rigid_contours.append(approx)\n",
    "    \n",
    "    return rigid_contours"
   ]
  },
  {
   "cell_type": "code",
   "execution_count": 38,
   "id": "d688f452",
   "metadata": {},
   "outputs": [],
   "source": [
    "def get_hull_contours(contours):\n",
    "\n",
    "    hull_contours = []\n",
    "    \n",
    "    for contour in contours:\n",
    "        \n",
    "        # Get convex hull of contour\n",
    "        hull = cv2.convexHull(contour)\n",
    "        hull_contours.append(hull)\n",
    "    \n",
    "    return hull_contours"
   ]
  },
  {
   "cell_type": "code",
   "execution_count": 39,
   "id": "6879da4c",
   "metadata": {},
   "outputs": [],
   "source": [
    "def filter_noise_contours(contours, min_area=1000):\n",
    "\n",
    "    # Remove noise\n",
    "    filtered_contours = []\n",
    "\n",
    "    for contour in contours:\n",
    "        \n",
    "        area = cv2.contourArea(contour)\n",
    "\n",
    "        # How much noise to filter\n",
    "        if area > min_area:\n",
    "            filtered_contours.append(contour)\n",
    "    \n",
    "    return filtered_contours"
   ]
  },
  {
   "cell_type": "code",
   "execution_count": 40,
   "id": "7c38b0b6",
   "metadata": {},
   "outputs": [],
   "source": [
    "def get_centers(contours):\n",
    "\n",
    "    # Calculate centers of contours\n",
    "    centers = []\n",
    "\n",
    "    for contour in contours:\n",
    "\n",
    "        # Calculate moments\n",
    "        M = cv2.moments(contour)\n",
    "        \n",
    "        if M[\"m00\"] != 0: \n",
    "\n",
    "            # x coord\n",
    "            cx = int(M[\"m10\"] / M[\"m00\"])\n",
    "\n",
    "            # y coord\n",
    "            cy = int(M[\"m01\"] / M[\"m00\"])\n",
    "\n",
    "            centers.append((cx, cy))\n",
    "    \n",
    "    return centers"
   ]
  },
  {
   "cell_type": "markdown",
   "id": "3f48887c",
   "metadata": {},
   "source": [
    "File Names/Dirs"
   ]
  },
  {
   "cell_type": "code",
   "execution_count": 41,
   "id": "36d22126",
   "metadata": {},
   "outputs": [],
   "source": [
    "file_dir = \"data\"\n",
    "file_name = \"PennAir 2024 App Static.png\"\n",
    "file = os.path.join(file_dir, file_name)"
   ]
  },
  {
   "cell_type": "code",
   "execution_count": 42,
   "id": "0154c341",
   "metadata": {},
   "outputs": [],
   "source": [
    "output_dir = os.path.join(\"output\", \"consistency\")\n",
    "output_name = f\"annotated_3D_{file_name}\"\n",
    "output = os.path.join(output_dir, output_name)"
   ]
  },
  {
   "cell_type": "markdown",
   "id": "fc81f09c",
   "metadata": {},
   "source": [
    "Load Image"
   ]
  },
  {
   "cell_type": "code",
   "execution_count": 43,
   "id": "75c14423",
   "metadata": {},
   "outputs": [],
   "source": [
    "img = cv2.imread(file)"
   ]
  },
  {
   "cell_type": "code",
   "execution_count": 44,
   "id": "a3a166e9",
   "metadata": {},
   "outputs": [],
   "source": [
    "img = cv2.resize(img, (1920, 1080))"
   ]
  },
  {
   "cell_type": "code",
   "execution_count": 45,
   "id": "17e144ec",
   "metadata": {},
   "outputs": [],
   "source": [
    "width = img.shape[1]\n",
    "height = img.shape[0]"
   ]
  },
  {
   "cell_type": "markdown",
   "id": "6b6be671",
   "metadata": {},
   "source": [
    "Update K"
   ]
  },
  {
   "cell_type": "code",
   "execution_count": 46,
   "id": "68c10b25",
   "metadata": {},
   "outputs": [],
   "source": [
    "# Update camera matrix principal point if not provided\n",
    "# (Usually cx = width/2, cy = height/2)\n",
    "K_updated = K.copy()\n",
    "if K_updated[0, 2] == 0:  # If cx not set\n",
    "    K_updated[0, 2] = width / 2\n",
    "if K_updated[1, 2] == 0:  # If cy not set\n",
    "    K_updated[1, 2] = height / 2"
   ]
  },
  {
   "cell_type": "markdown",
   "id": "e5544ab5",
   "metadata": {},
   "source": [
    "Process Image"
   ]
  },
  {
   "cell_type": "code",
   "execution_count": 47,
   "id": "03fa7ad6",
   "metadata": {},
   "outputs": [],
   "source": [
    "# Convert to grayscale\n",
    "gray = cv2.cvtColor(img, cv2.COLOR_BGR2GRAY)\n",
    "\n",
    "# Consistency detection to create mask\n",
    "consistency_mask = edge_consistency_mask(gray)\n",
    "\n",
    "# Remove noise and erode\n",
    "cleaned_mask = remove_noise_and_erode(consistency_mask)\n",
    "\n",
    "# Smooth\n",
    "smooth_mask = smooth_mask_and_fill_gaps(cleaned_mask)\n",
    "\n",
    "# Erode\n",
    "eroded_mask = heavy_erode(smooth_mask)\n",
    "\n",
    "# Find contours\n",
    "contours, _ = cv2.findContours(eroded_mask, cv2.RETR_EXTERNAL, cv2.CHAIN_APPROX_SIMPLE)\n",
    "\n",
    "# Filter contours by compactness\n",
    "clean_mask = filter_countours_compactness(eroded_mask, contours)\n",
    "\n",
    "# Undo erosion\n",
    "final_mask = dilate_to_undo_erosion(clean_mask)\n",
    "\n",
    "# Find/Draw Outlines and Centers\n",
    "contours, _ = cv2.findContours(final_mask, cv2.RETR_EXTERNAL, cv2.CHAIN_APPROX_SIMPLE)\n",
    "\n",
    "# Make contours more rigid\n",
    "rigid_contours = get_rigid_contours(contours)\n",
    "\n",
    "# Make contours convex\n",
    "hull_contours = get_hull_contours(rigid_contours)\n",
    "\n",
    "filtered_contours = filter_noise_contours(hull_contours)\n",
    "\n",
    "centers = get_centers(filtered_contours)\n",
    "\n",
    "# Copy original\n",
    "result = img.copy()\n",
    "\n",
    "# Draw outlines of shapes\n",
    "cv2.drawContours(result, filtered_contours, -1, (0, 255, 0), 2)\n",
    "\n",
    "# Calculate 3D coordinates and get index in list of contours of most circular object\n",
    "coordinates_3d, circle_index = calculate_3d_coordinates(filtered_contours, centers, K_updated, R)\n",
    "\n",
    "# Draw results with 3D annotations\n",
    "result = draw_3d_annotations(result, filtered_contours, centers, coordinates_3d, circle_index)\n",
    "\n",
    "if show_steps:\n",
    "    # Display results\n",
    "    cv2.imshow(\"Image Results\", result)\n",
    "    cv2.waitKey(0)\n",
    "    cv2.destroyAllWindows()\n",
    "    cv2.waitKey(1)"
   ]
  },
  {
   "cell_type": "markdown",
   "id": "46775fc9",
   "metadata": {},
   "source": [
    "Save Result"
   ]
  },
  {
   "cell_type": "code",
   "execution_count": 48,
   "id": "cb0bfc32",
   "metadata": {},
   "outputs": [
    {
     "data": {
      "text/plain": [
       "True"
      ]
     },
     "execution_count": 48,
     "metadata": {},
     "output_type": "execute_result"
    }
   ],
   "source": [
    "cv2.imwrite(output, result)"
   ]
  }
 ],
 "metadata": {
  "kernelspec": {
   "display_name": "3.12.2",
   "language": "python",
   "name": "python3"
  },
  "language_info": {
   "codemirror_mode": {
    "name": "ipython",
    "version": 3
   },
   "file_extension": ".py",
   "mimetype": "text/x-python",
   "name": "python",
   "nbconvert_exporter": "python",
   "pygments_lexer": "ipython3",
   "version": "3.12.2"
  }
 },
 "nbformat": 4,
 "nbformat_minor": 5
}
