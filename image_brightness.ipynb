{
 "cells": [
  {
   "cell_type": "markdown",
   "id": "542e2b3e",
   "metadata": {},
   "source": [
    "Imports"
   ]
  },
  {
   "cell_type": "code",
   "execution_count": 98,
   "id": "8a0b033b",
   "metadata": {},
   "outputs": [],
   "source": [
    "import cv2\n",
    "import numpy as np\n",
    "import os"
   ]
  },
  {
   "cell_type": "code",
   "execution_count": 99,
   "id": "1ab67c46",
   "metadata": {},
   "outputs": [],
   "source": [
    "show_steps = False"
   ]
  },
  {
   "cell_type": "markdown",
   "id": "0188fbff",
   "metadata": {},
   "source": [
    "Load Image"
   ]
  },
  {
   "cell_type": "code",
   "execution_count": 100,
   "id": "aa695601",
   "metadata": {},
   "outputs": [],
   "source": [
    "file_dir = \"data\"\n",
    "file_name = \"PennAir 2024 App Static.png\"\n",
    "file = os.path.join(file_dir, file_name)"
   ]
  },
  {
   "cell_type": "code",
   "execution_count": 101,
   "id": "9fee30f2",
   "metadata": {},
   "outputs": [],
   "source": [
    "# Load image\n",
    "img = cv2.imread(file)"
   ]
  },
  {
   "cell_type": "code",
   "execution_count": 102,
   "id": "64c697bd",
   "metadata": {},
   "outputs": [],
   "source": [
    "img = cv2.resize(img, (1920, 1080))"
   ]
  },
  {
   "cell_type": "code",
   "execution_count": 103,
   "id": "cb25d724",
   "metadata": {},
   "outputs": [],
   "source": [
    "if show_steps:\n",
    "    # Display original image\n",
    "    cv2.imshow(\"Original\", img)\n",
    "    cv2.waitKey(0)\n",
    "    cv2.destroyAllWindows()\n",
    "    cv2.waitKey(1)"
   ]
  },
  {
   "cell_type": "markdown",
   "id": "8779230d",
   "metadata": {},
   "source": [
    "Binary Value (Brightness)"
   ]
  },
  {
   "cell_type": "code",
   "execution_count": 104,
   "id": "54edb405",
   "metadata": {},
   "outputs": [],
   "source": [
    "# Convert to Hue Saturation Value format\n",
    "hsv_img = cv2.cvtColor(img, cv2.COLOR_BGR2HSV)"
   ]
  },
  {
   "cell_type": "code",
   "execution_count": 105,
   "id": "ee28bdc8",
   "metadata": {},
   "outputs": [],
   "source": [
    "# Extract only Value (Brightness)\n",
    "val_img = hsv_img[:,:,2]\n",
    "\n",
    "# Set brightness threshold x\n",
    "x = 140\n",
    "_, bin_val_img = cv2.threshold(val_img, x, 255, cv2.THRESH_BINARY)"
   ]
  },
  {
   "cell_type": "code",
   "execution_count": 106,
   "id": "cc1e80f2",
   "metadata": {},
   "outputs": [],
   "source": [
    "if show_steps:\n",
    "    # Display binary value image\n",
    "    cv2.imshow(\"Binary Value (Brightness)\", bin_val_img)\n",
    "    cv2.waitKey(0)\n",
    "    cv2.destroyAllWindows()\n",
    "    cv2.waitKey(1)"
   ]
  },
  {
   "cell_type": "code",
   "execution_count": 107,
   "id": "cf1266a0",
   "metadata": {},
   "outputs": [],
   "source": [
    "# Clean up w/ morphological operations\n",
    "kernel = cv2.getStructuringElement(cv2.MORPH_ELLIPSE, (5, 5))\n",
    "\n",
    "# Remove noise\n",
    "smoothed_img = cv2.morphologyEx(bin_val_img, cv2.MORPH_OPEN, kernel)\n",
    "\n",
    "# Fill gaps + smooth edges\n",
    "smoothed_img = cv2.morphologyEx(smoothed_img, cv2.MORPH_CLOSE, kernel)\n",
    "\n",
    "# Smooth edges again\n",
    "smoothed_img = cv2.medianBlur(smoothed_img, 5)"
   ]
  },
  {
   "cell_type": "code",
   "execution_count": 108,
   "id": "5b12ccb5",
   "metadata": {},
   "outputs": [],
   "source": [
    "if show_steps:\n",
    "    # Display smoothed binary value image\n",
    "    cv2.imshow(\"Smoothed Binary Value (Brightness)\", smoothed_img)\n",
    "    cv2.waitKey(0)\n",
    "    cv2.destroyAllWindows()\n",
    "    cv2.waitKey(1)"
   ]
  },
  {
   "cell_type": "markdown",
   "id": "293c0977",
   "metadata": {},
   "source": [
    "Find/Draw Outlines and Centers"
   ]
  },
  {
   "cell_type": "code",
   "execution_count": 109,
   "id": "2892140a",
   "metadata": {},
   "outputs": [],
   "source": [
    "contours, _ = cv2.findContours(smoothed_img, cv2.RETR_EXTERNAL, cv2.CHAIN_APPROX_SIMPLE)"
   ]
  },
  {
   "cell_type": "code",
   "execution_count": 110,
   "id": "8a1b4b88",
   "metadata": {},
   "outputs": [],
   "source": [
    "# Remove noise\n",
    "filtered_contours = []\n",
    "for contour in contours:\n",
    "    area = cv2.contourArea(contour)\n",
    "    # How much noise to filter\n",
    "    if area > 500:\n",
    "        filtered_contours.append(contour)"
   ]
  },
  {
   "cell_type": "code",
   "execution_count": 111,
   "id": "766bf8f4",
   "metadata": {},
   "outputs": [],
   "source": [
    "# Calculate centers of contours\n",
    "centers = []\n",
    "for contour in filtered_contours:\n",
    "    # Calculate moments\n",
    "    M = cv2.moments(contour)\n",
    "    if M[\"m00\"] != 0: \n",
    "        cx = int(M[\"m10\"] / M[\"m00\"])  # x coord\n",
    "        cy = int(M[\"m01\"] / M[\"m00\"])  # y coord\n",
    "        centers.append((cx, cy))"
   ]
  },
  {
   "cell_type": "code",
   "execution_count": 112,
   "id": "463e92a8",
   "metadata": {},
   "outputs": [],
   "source": [
    "# Copy original image to draw on\n",
    "result = img.copy()\n",
    "\n",
    "# Draw outlines of shapes\n",
    "cv2.drawContours(result, filtered_contours, -1, (0, 255, 0), 2)\n",
    "\n",
    "# Draw centers and place text\n",
    "for i, (contour, center) in enumerate(zip(filtered_contours, centers)):\n",
    "        cx, cy = center\n",
    "        \n",
    "        # Get bounding box for text placement\n",
    "        x, y, w, h = cv2.boundingRect(contour)\n",
    "        \n",
    "        # Draw center\n",
    "        cv2.circle(result, center, 5, (255, 255, 255), -1)\n",
    "        \n",
    "        # Place text\n",
    "        text = f\"({cx},{cy})\"\n",
    "        text_x = cx - 80\n",
    "        text_y = y + h + 40\n",
    "        cv2.putText(result, text, (text_x, text_y), cv2.FONT_HERSHEY_SIMPLEX, 1.0, (255, 255, 255), 2)"
   ]
  },
  {
   "cell_type": "code",
   "execution_count": 113,
   "id": "c8123784",
   "metadata": {},
   "outputs": [],
   "source": [
    "if show_steps:\n",
    "    # Display Result\n",
    "    cv2.imshow(\"Result\", result)\n",
    "    cv2.waitKey(0)\n",
    "    cv2.destroyAllWindows()\n",
    "    cv2.waitKey(1)"
   ]
  },
  {
   "cell_type": "markdown",
   "id": "16dda2ce",
   "metadata": {},
   "source": [
    "Save Annotated Image to Output Folder"
   ]
  },
  {
   "cell_type": "code",
   "execution_count": 114,
   "id": "3162fdd0",
   "metadata": {},
   "outputs": [],
   "source": [
    "output_dir = os.path.join(\"output\", \"brightness\")\n",
    "output_name = f\"annotated_{file_name}\"\n",
    "output = os.path.join(output_dir, output_name)"
   ]
  },
  {
   "cell_type": "code",
   "execution_count": 115,
   "id": "b12b9350",
   "metadata": {},
   "outputs": [
    {
     "data": {
      "text/plain": [
       "True"
      ]
     },
     "execution_count": 115,
     "metadata": {},
     "output_type": "execute_result"
    }
   ],
   "source": [
    "cv2.imwrite(output, result)"
   ]
  }
 ],
 "metadata": {
  "kernelspec": {
   "display_name": "3.12.2",
   "language": "python",
   "name": "python3"
  },
  "language_info": {
   "codemirror_mode": {
    "name": "ipython",
    "version": 3
   },
   "file_extension": ".py",
   "mimetype": "text/x-python",
   "name": "python",
   "nbconvert_exporter": "python",
   "pygments_lexer": "ipython3",
   "version": "3.12.2"
  }
 },
 "nbformat": 4,
 "nbformat_minor": 5
}
