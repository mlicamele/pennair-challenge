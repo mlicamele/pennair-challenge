{
 "cells": [
  {
   "cell_type": "markdown",
   "id": "3ae1b9d3",
   "metadata": {},
   "source": [
    "Imports"
   ]
  },
  {
   "cell_type": "code",
   "execution_count": 784,
   "id": "249e71c9",
   "metadata": {},
   "outputs": [],
   "source": [
    "import cv2\n",
    "import numpy as np\n",
    "import os"
   ]
  },
  {
   "cell_type": "code",
   "execution_count": 785,
   "id": "5251e374",
   "metadata": {},
   "outputs": [],
   "source": [
    "show_steps = False"
   ]
  },
  {
   "cell_type": "markdown",
   "id": "b77adc23",
   "metadata": {},
   "source": [
    "Functions"
   ]
  },
  {
   "cell_type": "code",
   "execution_count": 786,
   "id": "d9e3de88",
   "metadata": {},
   "outputs": [],
   "source": [
    "def edge_consistency_mask(gray):\n",
    "    \n",
    "    # Find edges\n",
    "    edges = cv2.Canny(gray, 50, 150)\n",
    "    \n",
    "    # Dilate edges to create boundaries\n",
    "    kernel = cv2.getStructuringElement(cv2.MORPH_ELLIPSE, (5, 5))\n",
    "    edge_dilated = cv2.dilate(edges, kernel, iterations=1)\n",
    "    \n",
    "    # Invert \n",
    "    consistent_mask = cv2.bitwise_not(edge_dilated)\n",
    "    \n",
    "    return consistent_mask"
   ]
  },
  {
   "cell_type": "code",
   "execution_count": 787,
   "id": "5b364c58",
   "metadata": {},
   "outputs": [],
   "source": [
    "def remove_noise_and_erode(noise_mask):\n",
    "\n",
    "    # Removes noise\n",
    "    noise_kernel = cv2.getStructuringElement(cv2.MORPH_ELLIPSE, (7, 7))\n",
    "    no_noise_mask = cv2.morphologyEx(noise_mask, cv2.MORPH_OPEN, noise_kernel, iterations=1)\n",
    "\n",
    "    # Erode to separate shapes connected to random blotches\n",
    "    erosion_kernel = cv2.getStructuringElement(cv2.MORPH_ELLIPSE, (15, 15))\n",
    "    eroded_mask = cv2.erode(no_noise_mask, erosion_kernel, iterations=2)\n",
    "\n",
    "    return eroded_mask"
   ]
  },
  {
   "cell_type": "code",
   "execution_count": 788,
   "id": "8ace9378",
   "metadata": {},
   "outputs": [],
   "source": [
    "def smooth_mask_and_fill_gaps(unsmoothed_mask):\n",
    "    \n",
    "    smoothing_kernel = cv2.getStructuringElement(cv2.MORPH_ELLIPSE, (5, 5))\n",
    "\n",
    "    # Fill the gaps and smooth the edges\n",
    "    filled_gaps_mask = cv2.morphologyEx(unsmoothed_mask, cv2.MORPH_CLOSE, smoothing_kernel)\n",
    "\n",
    "    # Smooth more with blur\n",
    "    smoothed_mask = cv2.medianBlur(filled_gaps_mask, 15)\n",
    "\n",
    "    return smoothed_mask"
   ]
  },
  {
   "cell_type": "code",
   "execution_count": 789,
   "id": "bf4fc41c",
   "metadata": {},
   "outputs": [],
   "source": [
    "def heavy_erode(non_eroded_mask):\n",
    "    \n",
    "    kernel = cv2.getStructuringElement(cv2.MORPH_ELLIPSE, (9, 9))\n",
    "\n",
    "    # Remove small noise while keeping size of surviving shapes\n",
    "    opened_mask = cv2.morphologyEx(non_eroded_mask, cv2.MORPH_OPEN, kernel, iterations=3)\n",
    "\n",
    "    # Heavy erosion to separate shapes\n",
    "    separated_mask = cv2.erode(opened_mask, kernel, iterations=7)\n",
    "\n",
    "    return separated_mask"
   ]
  },
  {
   "cell_type": "code",
   "execution_count": 790,
   "id": "fd6b5ee0",
   "metadata": {},
   "outputs": [],
   "source": [
    "def filter_countours_compactness(old_mask, contours, min_area=500, max_compactness=55, min_perimeter=0):\n",
    "\n",
    "    # Create empty mask from old mask shape\n",
    "    new_mask = np.zeros_like(old_mask)\n",
    "\n",
    "    for contour in contours:\n",
    "\n",
    "        # Get area/perimeter for each contour\n",
    "        area = cv2.contourArea(contour)\n",
    "        perimeter = cv2.arcLength(contour, True)\n",
    "        \n",
    "        # Filter by area and compactness of shape\n",
    "        if area > min_area and perimeter > min_perimeter and (perimeter * perimeter) / area < max_compactness:\n",
    "            # Draw passing contours on new mask\n",
    "            cv2.fillPoly(new_mask, [contour], 255)\n",
    "    \n",
    "    return new_mask"
   ]
  },
  {
   "cell_type": "code",
   "execution_count": 791,
   "id": "a8490b21",
   "metadata": {},
   "outputs": [],
   "source": [
    "def dilate_to_undo_erosion(clean_mask):\n",
    "\n",
    "    # Undo erosion that filled gaps\n",
    "    erosion_kernel = cv2.getStructuringElement(cv2.MORPH_ELLIPSE, (15, 15))\n",
    "    final_mask = cv2.dilate(clean_mask, erosion_kernel, iterations=2)\n",
    "\n",
    "    # Undo heavy erosion that separated shapes\n",
    "    kernel = cv2.getStructuringElement(cv2.MORPH_ELLIPSE, (9, 9))\n",
    "    final_mask = cv2.dilate(final_mask, kernel, iterations=7)\n",
    "\n",
    "    return final_mask"
   ]
  },
  {
   "cell_type": "code",
   "execution_count": 792,
   "id": "eed6c2b9",
   "metadata": {},
   "outputs": [],
   "source": [
    "def get_rigid_contours(contours, epsilon_size=0.01):\n",
    "\n",
    "    rigid_contours = []\n",
    "\n",
    "    for contour in contours:\n",
    "        \n",
    "        # Approximate contour with fewer points\n",
    "        epsilon = epsilon_size * cv2.arcLength(contour, True)\n",
    "        approx = cv2.approxPolyDP(contour, epsilon, True)\n",
    "        rigid_contours.append(approx)\n",
    "    \n",
    "    return rigid_contours"
   ]
  },
  {
   "cell_type": "code",
   "execution_count": 793,
   "id": "d688f452",
   "metadata": {},
   "outputs": [],
   "source": [
    "def get_hull_contours(contours):\n",
    "\n",
    "    hull_contours = []\n",
    "    \n",
    "    for contour in contours:\n",
    "        \n",
    "        # Get convex hull of contour\n",
    "        hull = cv2.convexHull(contour)\n",
    "        hull_contours.append(hull)\n",
    "    \n",
    "    return hull_contours"
   ]
  },
  {
   "cell_type": "code",
   "execution_count": 794,
   "id": "6879da4c",
   "metadata": {},
   "outputs": [],
   "source": [
    "def filter_noise_contours(contours, min_area=1000):\n",
    "\n",
    "    # Remove noise\n",
    "    filtered_contours = []\n",
    "\n",
    "    for contour in contours:\n",
    "        \n",
    "        area = cv2.contourArea(contour)\n",
    "\n",
    "        # How much noise to filter\n",
    "        if area > min_area:\n",
    "            filtered_contours.append(contour)\n",
    "    \n",
    "    return filtered_contours"
   ]
  },
  {
   "cell_type": "code",
   "execution_count": 795,
   "id": "7c38b0b6",
   "metadata": {},
   "outputs": [],
   "source": [
    "def get_centers(contours):\n",
    "\n",
    "    # Calculate centers of contours\n",
    "    centers = []\n",
    "\n",
    "    for contour in contours:\n",
    "\n",
    "        # Calculate moments\n",
    "        M = cv2.moments(contour)\n",
    "        \n",
    "        if M[\"m00\"] != 0: \n",
    "\n",
    "            # x coord\n",
    "            cx = int(M[\"m10\"] / M[\"m00\"])\n",
    "\n",
    "            # y coord\n",
    "            cy = int(M[\"m01\"] / M[\"m00\"])\n",
    "\n",
    "            centers.append((cx, cy))\n",
    "    \n",
    "    return centers"
   ]
  },
  {
   "cell_type": "markdown",
   "id": "3f48887c",
   "metadata": {},
   "source": [
    "File Names/Dirs"
   ]
  },
  {
   "cell_type": "code",
   "execution_count": 796,
   "id": "36d22126",
   "metadata": {},
   "outputs": [],
   "source": [
    "file_dir = \"data\"\n",
    "file_name = \"PennAir 2024 App Static.png\"\n",
    "file = os.path.join(file_dir, file_name)"
   ]
  },
  {
   "cell_type": "code",
   "execution_count": 797,
   "id": "0154c341",
   "metadata": {},
   "outputs": [],
   "source": [
    "output_dir = os.path.join(\"output\", \"consistency\")\n",
    "output_name = f\"annotated_{file_name}\"\n",
    "output = os.path.join(output_dir, output_name)"
   ]
  },
  {
   "cell_type": "markdown",
   "id": "fc81f09c",
   "metadata": {},
   "source": [
    "Load Image"
   ]
  },
  {
   "cell_type": "code",
   "execution_count": 798,
   "id": "75c14423",
   "metadata": {},
   "outputs": [],
   "source": [
    "img = cv2.imread(file)"
   ]
  },
  {
   "cell_type": "code",
   "execution_count": 799,
   "id": "a3a166e9",
   "metadata": {},
   "outputs": [],
   "source": [
    "img = cv2.resize(img, (1920, 1080))"
   ]
  },
  {
   "cell_type": "markdown",
   "id": "e5544ab5",
   "metadata": {},
   "source": [
    "Process Image"
   ]
  },
  {
   "cell_type": "code",
   "execution_count": 800,
   "id": "03fa7ad6",
   "metadata": {},
   "outputs": [],
   "source": [
    "# Convert to grayscale\n",
    "gray = cv2.cvtColor(img, cv2.COLOR_BGR2GRAY)\n",
    "\n",
    "# Consistency detection to create mask\n",
    "consistency_mask = edge_consistency_mask(gray)\n",
    "\n",
    "# Remove noise and erode\n",
    "cleaned_mask = remove_noise_and_erode(consistency_mask)\n",
    "\n",
    "# Smooth\n",
    "smooth_mask = smooth_mask_and_fill_gaps(cleaned_mask)\n",
    "\n",
    "# Erode\n",
    "eroded_mask = heavy_erode(smooth_mask)\n",
    "\n",
    "# Find contours\n",
    "contours, _ = cv2.findContours(eroded_mask, cv2.RETR_EXTERNAL, cv2.CHAIN_APPROX_SIMPLE)\n",
    "\n",
    "# Filter contours by compactness\n",
    "clean_mask = filter_countours_compactness(eroded_mask, contours)\n",
    "\n",
    "# Undo erosion\n",
    "final_mask = dilate_to_undo_erosion(clean_mask)\n",
    "\n",
    "# Find/Draw Outlines and Centers\n",
    "contours, _ = cv2.findContours(final_mask, cv2.RETR_EXTERNAL, cv2.CHAIN_APPROX_SIMPLE)\n",
    "\n",
    "# Make contours more rigid\n",
    "rigid_contours = get_rigid_contours(contours)\n",
    "\n",
    "# Make contours convex\n",
    "hull_contours = get_hull_contours(rigid_contours)\n",
    "\n",
    "filtered_contours = filter_noise_contours(hull_contours)\n",
    "\n",
    "centers = get_centers(filtered_contours)\n",
    "\n",
    "# Copy original\n",
    "result = img.copy()\n",
    "\n",
    "# Draw outlines of shapes\n",
    "cv2.drawContours(result, filtered_contours, -1, (0, 255, 0), 2)\n",
    "\n",
    "# Draw centers and place text\n",
    "for i, (contour, center) in enumerate(zip(filtered_contours, centers)):\n",
    "        cx, cy = center\n",
    "        \n",
    "        # Get bounding box for text placement\n",
    "        x, y, w, h = cv2.boundingRect(contour)\n",
    "        \n",
    "        # Draw center\n",
    "        cv2.circle(result, center, 5, (255, 255, 255), -1)\n",
    "        \n",
    "        # Place text\n",
    "        text = f\"({cx},{cy})\"\n",
    "        text_x = cx - 80\n",
    "        text_y = y + h + 40\n",
    "        cv2.putText(result, text, (text_x, text_y), cv2.FONT_HERSHEY_SIMPLEX, 1.0, (255, 255, 255), 2)\n",
    "\n",
    "if show_steps:\n",
    "    # Display results\n",
    "    cv2.imshow(\"Image Results\", result)\n",
    "    cv2.waitKey(0)\n",
    "    cv2.destroyAllWindows()\n",
    "    cv2.waitKey(1)"
   ]
  },
  {
   "cell_type": "markdown",
   "id": "46775fc9",
   "metadata": {},
   "source": [
    "Save Result"
   ]
  },
  {
   "cell_type": "code",
   "execution_count": 801,
   "id": "cb0bfc32",
   "metadata": {},
   "outputs": [
    {
     "data": {
      "text/plain": [
       "True"
      ]
     },
     "execution_count": 801,
     "metadata": {},
     "output_type": "execute_result"
    }
   ],
   "source": [
    "cv2.imwrite(output, result)"
   ]
  }
 ],
 "metadata": {
  "kernelspec": {
   "display_name": "3.12.2",
   "language": "python",
   "name": "python3"
  },
  "language_info": {
   "codemirror_mode": {
    "name": "ipython",
    "version": 3
   },
   "file_extension": ".py",
   "mimetype": "text/x-python",
   "name": "python",
   "nbconvert_exporter": "python",
   "pygments_lexer": "ipython3",
   "version": "3.12.2"
  }
 },
 "nbformat": 4,
 "nbformat_minor": 5
}
