{
 "cells": [
  {
   "cell_type": "markdown",
   "id": "3ae1b9d3",
   "metadata": {},
   "source": [
    "Imports"
   ]
  },
  {
   "cell_type": "code",
   "execution_count": 1,
   "id": "249e71c9",
   "metadata": {},
   "outputs": [],
   "source": [
    "import cv2\n",
    "import numpy as np\n",
    "import os"
   ]
  },
  {
   "cell_type": "code",
   "execution_count": 2,
   "id": "3e1dced5",
   "metadata": {},
   "outputs": [],
   "source": [
    "show_steps = False"
   ]
  },
  {
   "cell_type": "markdown",
   "id": "2d65c8d6",
   "metadata": {},
   "source": [
    "Constants"
   ]
  },
  {
   "cell_type": "code",
   "execution_count": 3,
   "id": "bb4f81ea",
   "metadata": {},
   "outputs": [],
   "source": [
    "# Intrinsic Matrix\n",
    "K = np.array([[2564.3186869, 0, 0], [0, 2569.70273111, 0], [0, 0, 1]])\n",
    "\n",
    "# Circle Radius\n",
    "R = 10.0"
   ]
  },
  {
   "cell_type": "markdown",
   "id": "b77adc23",
   "metadata": {},
   "source": [
    "Functions"
   ]
  },
  {
   "cell_type": "code",
   "execution_count": 4,
   "id": "c621d674",
   "metadata": {},
   "outputs": [],
   "source": [
    "def find_most_circular_contour(contours):\n",
    "\n",
    "    best_circularity = 0\n",
    "    best_contour = None\n",
    "    best_index = -1\n",
    "    \n",
    "    for i, contour in enumerate(contours):\n",
    "        area = cv2.contourArea(contour)\n",
    "        perimeter = cv2.arcLength(contour, True)\n",
    "        \n",
    "        if perimeter > 0 and area > 500:  \n",
    "            circularity = 4 * np.pi * area / (perimeter * perimeter)\n",
    "            \n",
    "            if circularity > best_circularity:\n",
    "                best_circularity = circularity\n",
    "                best_contour = contour\n",
    "                best_index = i\n",
    "    \n",
    "    return best_contour, best_circularity, best_index"
   ]
  },
  {
   "cell_type": "code",
   "execution_count": 5,
   "id": "44470b44",
   "metadata": {},
   "outputs": [],
   "source": [
    "def calculate_3d_coordinates(contours, centers, camera_matrix, circle_radius):\n",
    "\n",
    "    coordinates_3d = []\n",
    "    reference_depth = None\n",
    "    \n",
    "    # Extract camera parameters\n",
    "    fx = camera_matrix[0, 0]\n",
    "    fy = camera_matrix[1, 1]\n",
    "    cx = camera_matrix[0, 2]\n",
    "    cy = camera_matrix[1, 2]\n",
    "    \n",
    "    # Find the most circular contour\n",
    "    circle_contour, circularity, circle_index = find_most_circular_contour(contours)\n",
    "    \n",
    "    if circle_contour is not None and circularity > 0.8:\n",
    "\n",
    "        # Calculate depth from the most circular object\n",
    "        area = cv2.contourArea(circle_contour)\n",
    "        radius_pixels = np.sqrt(area / np.pi)\n",
    "        \n",
    "        # Calculate reference depth\n",
    "        reference_depth = (fx * circle_radius) / radius_pixels\n",
    "            \n",
    "    else:\n",
    "\n",
    "        # Default depth\n",
    "        reference_depth = 100.0 \n",
    "    \n",
    "    # Calculate 3D coordinates for all shapes using reference depth\n",
    "    for i, (contour, center) in enumerate(zip(contours, centers)):\n",
    "\n",
    "        # Image coordinates\n",
    "        u, v = center  \n",
    "        \n",
    "        # Calculate 3D coordinates\n",
    "        Z = reference_depth\n",
    "        X = (u - cx) * Z / fx\n",
    "        Y = (v - cy) * Z / fy\n",
    "        coordinates_3d.append((X, Y, Z))\n",
    "    \n",
    "    return coordinates_3d, circle_index"
   ]
  },
  {
   "cell_type": "code",
   "execution_count": 6,
   "id": "13a90cf7",
   "metadata": {},
   "outputs": [],
   "source": [
    "def draw_3d_annotations(frame, contours, centers, coordinates_3d, circle_index=-1):\n",
    "    \n",
    "    result_frame = frame.copy()\n",
    "    \n",
    "    # Draw contours\n",
    "    cv2.drawContours(result_frame, contours, -1, (0, 255, 0), 2)\n",
    "    \n",
    "    for i, (contour, center, coord_3d) in enumerate(zip(contours, centers, coordinates_3d)):\n",
    "        cx, cy = center\n",
    "        X, Y, Z = coord_3d\n",
    "        \n",
    "        # Get bounding box for text placement\n",
    "        x, y, w, h = cv2.boundingRect(contour)\n",
    "        \n",
    "        # Draw center\n",
    "        cv2.circle(result_frame, center, 5, (255, 255, 255), -1)\n",
    "\n",
    "        # Place 3D coordinates\n",
    "        text_3d = f\"({X:.1f},{Y:.1f},{Z:.1f})\"\n",
    "        cv2.putText(result_frame, text_3d, (cx - 80, y + h + 50), cv2.FONT_HERSHEY_SIMPLEX, 0.7, (255, 255, 255), 2)\n",
    "    \n",
    "    return result_frame"
   ]
  },
  {
   "cell_type": "markdown",
   "id": "3f48887c",
   "metadata": {},
   "source": [
    "File Names/Dirs"
   ]
  },
  {
   "cell_type": "code",
   "execution_count": 7,
   "id": "36d22126",
   "metadata": {},
   "outputs": [],
   "source": [
    "file_dir = \"data\"\n",
    "file_name = \"PennAir 2024 App Dynamic.mp4\"\n",
    "file = os.path.join(file_dir, file_name)"
   ]
  },
  {
   "cell_type": "code",
   "execution_count": 8,
   "id": "0154c341",
   "metadata": {},
   "outputs": [],
   "source": [
    "output_dir = os.path.join(\"output\", \"brightness\")\n",
    "output_name = f\"annotated_3D_{file_name}\"\n",
    "output = os.path.join(output_dir, output_name)"
   ]
  },
  {
   "cell_type": "markdown",
   "id": "fc81f09c",
   "metadata": {},
   "source": [
    "Load Video"
   ]
  },
  {
   "cell_type": "code",
   "execution_count": 9,
   "id": "75c14423",
   "metadata": {},
   "outputs": [],
   "source": [
    "vid = cv2.VideoCapture(file)"
   ]
  },
  {
   "cell_type": "code",
   "execution_count": 10,
   "id": "b7f0f94a",
   "metadata": {},
   "outputs": [],
   "source": [
    "# Video properties\n",
    "fps = vid.get(cv2.CAP_PROP_FPS)\n",
    "width = int(vid.get(cv2.CAP_PROP_FRAME_WIDTH))\n",
    "height = int(vid.get(cv2.CAP_PROP_FRAME_HEIGHT))\n",
    "\n",
    "# Video writer to save output video\n",
    "fourcc = cv2.VideoWriter_fourcc(*\"mp4v\")\n",
    "out_vid = cv2.VideoWriter(output, fourcc, fps, (width, height))"
   ]
  },
  {
   "cell_type": "markdown",
   "id": "2749fbb9",
   "metadata": {},
   "source": [
    "Update K"
   ]
  },
  {
   "cell_type": "code",
   "execution_count": 11,
   "id": "26803737",
   "metadata": {},
   "outputs": [],
   "source": [
    "# Update camera matrix principal point if not provided\n",
    "# (Usually cx = width/2, cy = height/2)\n",
    "K_updated = K.copy()\n",
    "if K_updated[0, 2] == 0:  # If cx not set\n",
    "    K_updated[0, 2] = width / 2\n",
    "if K_updated[1, 2] == 0:  # If cy not set\n",
    "    K_updated[1, 2] = height / 2"
   ]
  },
  {
   "cell_type": "markdown",
   "id": "f9a9235d",
   "metadata": {},
   "source": [
    "Process Video"
   ]
  },
  {
   "cell_type": "code",
   "execution_count": 12,
   "id": "03fa7ad6",
   "metadata": {},
   "outputs": [
    {
     "ename": "KeyboardInterrupt",
     "evalue": "",
     "output_type": "error",
     "traceback": [
      "\u001b[0;31m---------------------------------------------------------------------------\u001b[0m",
      "\u001b[0;31mKeyboardInterrupt\u001b[0m                         Traceback (most recent call last)",
      "Cell \u001b[0;32mIn[12], line 64\u001b[0m\n\u001b[1;32m     61\u001b[0m result_frame \u001b[38;5;241m=\u001b[39m draw_3d_annotations(result_frame, filtered_contours, centers, coordinates_3d, circle_index)\n\u001b[1;32m     63\u001b[0m \u001b[38;5;66;03m# Write output\u001b[39;00m\n\u001b[0;32m---> 64\u001b[0m \u001b[43mout_vid\u001b[49m\u001b[38;5;241;43m.\u001b[39;49m\u001b[43mwrite\u001b[49m\u001b[43m(\u001b[49m\u001b[43mresult_frame\u001b[49m\u001b[43m)\u001b[49m\n\u001b[1;32m     66\u001b[0m \u001b[38;5;28;01mif\u001b[39;00m show_steps:\n\u001b[1;32m     67\u001b[0m     \u001b[38;5;66;03m# Display results\u001b[39;00m\n\u001b[1;32m     68\u001b[0m     cv2\u001b[38;5;241m.\u001b[39mimshow(\u001b[38;5;124m'\u001b[39m\u001b[38;5;124mVideo Results\u001b[39m\u001b[38;5;124m'\u001b[39m, result_frame)\n",
      "\u001b[0;31mKeyboardInterrupt\u001b[0m: "
     ]
    }
   ],
   "source": [
    "# Loop through video frames\n",
    "while True:\n",
    "    ret, frame = vid.read()\n",
    "\n",
    "    # Break if no frame is returned\n",
    "    if not ret:\n",
    "        break\n",
    "    \n",
    "    # Convert to Hue Saturation Value format\n",
    "    hsv = cv2.cvtColor(frame, cv2.COLOR_BGR2HSV)\n",
    "\n",
    "    # Extract only Value (Brightness)\n",
    "    val = hsv[:,:,2]\n",
    "\n",
    "    # Set brightness threshold x\n",
    "    x = 140\n",
    "    _, bin_val = cv2.threshold(val, x, 255, cv2.THRESH_BINARY)\n",
    "\n",
    "    # Clean up w/ morphological operations\n",
    "    smoothing_kernel = cv2.getStructuringElement(cv2.MORPH_ELLIPSE, (5, 5))\n",
    "\n",
    "    # Remove noise\n",
    "    no_noise = cv2.morphologyEx(bin_val, cv2.MORPH_OPEN, smoothing_kernel)\n",
    "\n",
    "    # Fill gaps + smooth edges\n",
    "    fill_gaps = cv2.morphologyEx(no_noise, cv2.MORPH_CLOSE, smoothing_kernel)\n",
    "\n",
    "    # Smooth edges again\n",
    "    smoothed = cv2.medianBlur(fill_gaps, 5)\n",
    "\n",
    "    contours, _ = cv2.findContours(smoothed, cv2.RETR_EXTERNAL, cv2.CHAIN_APPROX_SIMPLE)\n",
    "\n",
    "    # Remove noise\n",
    "    filtered_contours = []\n",
    "    for contour in contours:\n",
    "        area = cv2.contourArea(contour)\n",
    "        # How much noise to filter\n",
    "        if area > 500:\n",
    "            filtered_contours.append(contour)\n",
    "    \n",
    "    # Calculate centers of contours\n",
    "    centers = []\n",
    "    for contour in filtered_contours:\n",
    "        # Calculate moments\n",
    "        M = cv2.moments(contour)\n",
    "        if M[\"m00\"] != 0: \n",
    "            cx = int(M[\"m10\"] / M[\"m00\"])  # x coord\n",
    "            cy = int(M[\"m01\"] / M[\"m00\"])  # y coord\n",
    "            centers.append((cx, cy))\n",
    "\n",
    "    # Copy original image to draw on\n",
    "    result_frame = frame.copy()\n",
    "\n",
    "    # Draw contours\n",
    "    cv2.drawContours(result_frame, filtered_contours, -1, (0, 255, 0), 2)\n",
    "\n",
    "    # Calculate 3D coordinates and get index in list of contours of most circular object\n",
    "    coordinates_3d, circle_index = calculate_3d_coordinates(filtered_contours, centers, K_updated, R)\n",
    "    \n",
    "    # Draw results with 3D annotations\n",
    "    result_frame = draw_3d_annotations(result_frame, filtered_contours, centers, coordinates_3d, circle_index)\n",
    "    \n",
    "    # Write output\n",
    "    out_vid.write(result_frame)\n",
    "    \n",
    "    if show_steps:\n",
    "        # Display results\n",
    "        cv2.imshow('Video Results', result_frame)\n",
    "        if cv2.waitKey(1) & 0xFF == 13:\n",
    "            break\n",
    "\n",
    "vid.release()\n",
    "out_vid.release()\n",
    "cv2.destroyAllWindows()\n",
    "cv2.waitKey(1)"
   ]
  }
 ],
 "metadata": {
  "kernelspec": {
   "display_name": "3.12.2",
   "language": "python",
   "name": "python3"
  },
  "language_info": {
   "codemirror_mode": {
    "name": "ipython",
    "version": 3
   },
   "file_extension": ".py",
   "mimetype": "text/x-python",
   "name": "python",
   "nbconvert_exporter": "python",
   "pygments_lexer": "ipython3",
   "version": "3.12.2"
  }
 },
 "nbformat": 4,
 "nbformat_minor": 5
}
