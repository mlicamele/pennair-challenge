{
 "cells": [
  {
   "cell_type": "markdown",
   "id": "3ae1b9d3",
   "metadata": {},
   "source": [
    "Imports"
   ]
  },
  {
   "cell_type": "code",
   "execution_count": 97,
   "id": "249e71c9",
   "metadata": {},
   "outputs": [],
   "source": [
    "import cv2\n",
    "import numpy as np\n",
    "import os"
   ]
  },
  {
   "cell_type": "code",
   "execution_count": 98,
   "id": "52a58562",
   "metadata": {},
   "outputs": [],
   "source": [
    "show_steps = False"
   ]
  },
  {
   "cell_type": "markdown",
   "id": "3f48887c",
   "metadata": {},
   "source": [
    "File Names/Dirs"
   ]
  },
  {
   "cell_type": "code",
   "execution_count": 99,
   "id": "36d22126",
   "metadata": {},
   "outputs": [],
   "source": [
    "file_dir = \"data\"\n",
    "file_name = \"PennAir 2024 App Dynamic.mp4\"\n",
    "file = os.path.join(file_dir, file_name)"
   ]
  },
  {
   "cell_type": "code",
   "execution_count": 100,
   "id": "0154c341",
   "metadata": {},
   "outputs": [],
   "source": [
    "output_dir = os.path.join(\"output\", \"brightness\")\n",
    "output_name = f\"annotated_{file_name}\"\n",
    "output = os.path.join(output_dir, output_name)"
   ]
  },
  {
   "cell_type": "markdown",
   "id": "fc81f09c",
   "metadata": {},
   "source": [
    "Load Video"
   ]
  },
  {
   "cell_type": "code",
   "execution_count": 101,
   "id": "75c14423",
   "metadata": {},
   "outputs": [],
   "source": [
    "vid = cv2.VideoCapture(file)"
   ]
  },
  {
   "cell_type": "code",
   "execution_count": 102,
   "id": "b7f0f94a",
   "metadata": {},
   "outputs": [],
   "source": [
    "# Video properties\n",
    "fps = vid.get(cv2.CAP_PROP_FPS)\n",
    "width = int(vid.get(cv2.CAP_PROP_FRAME_WIDTH))\n",
    "height = int(vid.get(cv2.CAP_PROP_FRAME_HEIGHT))\n",
    "\n",
    "# Video writer to save output video\n",
    "fourcc = cv2.VideoWriter_fourcc(*\"mp4v\")\n",
    "out_vid = cv2.VideoWriter(output, fourcc, fps, (width, height))"
   ]
  },
  {
   "cell_type": "code",
   "execution_count": 103,
   "id": "03fa7ad6",
   "metadata": {},
   "outputs": [
    {
     "ename": "KeyboardInterrupt",
     "evalue": "",
     "output_type": "error",
     "traceback": [
      "\u001b[0;31m---------------------------------------------------------------------------\u001b[0m",
      "\u001b[0;31mKeyboardInterrupt\u001b[0m                         Traceback (most recent call last)",
      "Cell \u001b[0;32mIn[103], line 3\u001b[0m\n\u001b[1;32m      1\u001b[0m \u001b[38;5;66;03m# Loop through video frames\u001b[39;00m\n\u001b[1;32m      2\u001b[0m \u001b[38;5;28;01mwhile\u001b[39;00m \u001b[38;5;28;01mTrue\u001b[39;00m:\n\u001b[0;32m----> 3\u001b[0m     ret, frame \u001b[38;5;241m=\u001b[39m \u001b[43mvid\u001b[49m\u001b[38;5;241;43m.\u001b[39;49m\u001b[43mread\u001b[49m\u001b[43m(\u001b[49m\u001b[43m)\u001b[49m\n\u001b[1;32m      5\u001b[0m     \u001b[38;5;66;03m# Break if no frame is returned\u001b[39;00m\n\u001b[1;32m      6\u001b[0m     \u001b[38;5;28;01mif\u001b[39;00m \u001b[38;5;129;01mnot\u001b[39;00m ret:\n",
      "\u001b[0;31mKeyboardInterrupt\u001b[0m: "
     ]
    }
   ],
   "source": [
    "# Loop through video frames\n",
    "while True:\n",
    "    ret, frame = vid.read()\n",
    "\n",
    "    # Break if no frame is returned\n",
    "    if not ret:\n",
    "        break\n",
    "    \n",
    "    # Convert to Hue Saturation Value format\n",
    "    hsv = cv2.cvtColor(frame, cv2.COLOR_BGR2HSV)\n",
    "\n",
    "    # Extract only Value (Brightness)\n",
    "    val = hsv[:,:,2]\n",
    "\n",
    "    # Set brightness threshold x\n",
    "    x = 140\n",
    "    _, bin_val = cv2.threshold(val, x, 255, cv2.THRESH_BINARY)\n",
    "\n",
    "    # Clean up w/ morphological operations\n",
    "    smoothing_kernel = cv2.getStructuringElement(cv2.MORPH_ELLIPSE, (5, 5))\n",
    "\n",
    "    # Remove noise\n",
    "    no_noise = cv2.morphologyEx(bin_val, cv2.MORPH_OPEN, smoothing_kernel)\n",
    "\n",
    "    # Fill gaps + smooth edges\n",
    "    fill_gaps = cv2.morphologyEx(no_noise, cv2.MORPH_CLOSE, smoothing_kernel)\n",
    "\n",
    "    # Smooth edges again\n",
    "    smoothed = cv2.medianBlur(fill_gaps, 5)\n",
    "\n",
    "    contours, _ = cv2.findContours(smoothed, cv2.RETR_EXTERNAL, cv2.CHAIN_APPROX_SIMPLE)\n",
    "\n",
    "    # Remove noise\n",
    "    filtered_contours = []\n",
    "    for contour in contours:\n",
    "        area = cv2.contourArea(contour)\n",
    "        # How much noise to filter\n",
    "        if area > 500:\n",
    "            filtered_contours.append(contour)\n",
    "    \n",
    "    # Calculate centers of contours\n",
    "    centers = []\n",
    "    for contour in filtered_contours:\n",
    "        # Calculate moments\n",
    "        M = cv2.moments(contour)\n",
    "        if M[\"m00\"] != 0: \n",
    "            cx = int(M[\"m10\"] / M[\"m00\"])  # x coord\n",
    "            cy = int(M[\"m01\"] / M[\"m00\"])  # y coord\n",
    "            centers.append((cx, cy))\n",
    "\n",
    "    # Copy original image to draw on\n",
    "    result_frame = frame.copy()\n",
    "\n",
    "    # Draw contours\n",
    "    cv2.drawContours(result_frame, filtered_contours, -1, (0, 255, 0), 2)\n",
    "\n",
    "    for i, (contour, center) in enumerate(zip(filtered_contours, centers)):\n",
    "        cx, cy = center\n",
    "        \n",
    "        # Get bounding box for text placement\n",
    "        x, y, w, h = cv2.boundingRect(contour)\n",
    "        \n",
    "        # Draw center\n",
    "        cv2.circle(result_frame, center, 5, (255, 255, 255), -1)\n",
    "        \n",
    "        # Place text\n",
    "        text = f\"({cx},{cy})\"\n",
    "        text_x = cx - 80\n",
    "        text_y = y + h + 40\n",
    "        cv2.putText(result_frame, text, (text_x, text_y), cv2.FONT_HERSHEY_SIMPLEX, 1.0, (255, 255, 255), 2)\n",
    "    \n",
    "    if show_steps:\n",
    "        # Display results\n",
    "        cv2.imshow('Video Results', result_frame)\n",
    "        if cv2.waitKey(1) & 0xFF == 13:\n",
    "            break\n",
    "\n",
    "vid.release()\n",
    "out_vid.release()\n",
    "cv2.destroyAllWindows()\n",
    "cv2.waitKey(1)"
   ]
  }
 ],
 "metadata": {
  "kernelspec": {
   "display_name": "3.12.2",
   "language": "python",
   "name": "python3"
  },
  "language_info": {
   "codemirror_mode": {
    "name": "ipython",
    "version": 3
   },
   "file_extension": ".py",
   "mimetype": "text/x-python",
   "name": "python",
   "nbconvert_exporter": "python",
   "pygments_lexer": "ipython3",
   "version": "3.12.2"
  }
 },
 "nbformat": 4,
 "nbformat_minor": 5
}
