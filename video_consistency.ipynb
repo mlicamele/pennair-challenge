{
 "cells": [
  {
   "cell_type": "markdown",
   "id": "3ae1b9d3",
   "metadata": {},
   "source": [
    "Imports"
   ]
  },
  {
   "cell_type": "code",
   "execution_count": 171,
   "id": "249e71c9",
   "metadata": {},
   "outputs": [],
   "source": [
    "import cv2\n",
    "import numpy as np\n",
    "import os"
   ]
  },
  {
   "cell_type": "code",
   "execution_count": 172,
   "id": "42e83457",
   "metadata": {},
   "outputs": [],
   "source": [
    "show_steps = False"
   ]
  },
  {
   "cell_type": "markdown",
   "id": "b77adc23",
   "metadata": {},
   "source": [
    "Functions"
   ]
  },
  {
   "cell_type": "code",
   "execution_count": 173,
   "id": "d9e3de88",
   "metadata": {},
   "outputs": [],
   "source": [
    "def edge_consistency_mask(gray):\n",
    "    \n",
    "    # Find edges\n",
    "    edges = cv2.Canny(gray, 50, 150)\n",
    "    \n",
    "    # Dilate edges to create boundaries\n",
    "    kernel = cv2.getStructuringElement(cv2.MORPH_ELLIPSE, (5, 5))\n",
    "    edge_dilated = cv2.dilate(edges, kernel, iterations=1)\n",
    "    \n",
    "    # Invert \n",
    "    consistent_mask = cv2.bitwise_not(edge_dilated)\n",
    "    \n",
    "    return consistent_mask"
   ]
  },
  {
   "cell_type": "code",
   "execution_count": 174,
   "id": "5b364c58",
   "metadata": {},
   "outputs": [],
   "source": [
    "def remove_noise_and_erode(noise_mask):\n",
    "\n",
    "    # Removes noise\n",
    "    noise_kernel = cv2.getStructuringElement(cv2.MORPH_ELLIPSE, (7, 7))\n",
    "    no_noise_mask = cv2.morphologyEx(noise_mask, cv2.MORPH_OPEN, noise_kernel, iterations=1)\n",
    "\n",
    "    # Erode to separate shapes connected to random blotches\n",
    "    erosion_kernel = cv2.getStructuringElement(cv2.MORPH_ELLIPSE, (15, 15))\n",
    "    eroded_mask = cv2.erode(no_noise_mask, erosion_kernel, iterations=2)\n",
    "\n",
    "    return eroded_mask"
   ]
  },
  {
   "cell_type": "code",
   "execution_count": 175,
   "id": "8ace9378",
   "metadata": {},
   "outputs": [],
   "source": [
    "def smooth_mask_and_fill_gaps(unsmoothed_mask):\n",
    "    \n",
    "    smoothing_kernel = cv2.getStructuringElement(cv2.MORPH_ELLIPSE, (5, 5))\n",
    "\n",
    "    # Fill the gaps and smooth the edges\n",
    "    filled_gaps_mask = cv2.morphologyEx(unsmoothed_mask, cv2.MORPH_CLOSE, smoothing_kernel)\n",
    "\n",
    "    # Smooth more with blur\n",
    "    smoothed_mask = cv2.medianBlur(filled_gaps_mask, 15)\n",
    "\n",
    "    return smoothed_mask"
   ]
  },
  {
   "cell_type": "code",
   "execution_count": 176,
   "id": "bf4fc41c",
   "metadata": {},
   "outputs": [],
   "source": [
    "def heavy_erode(non_eroded_mask):\n",
    "    \n",
    "    kernel = cv2.getStructuringElement(cv2.MORPH_ELLIPSE, (9, 9))\n",
    "\n",
    "    # Remove small noise while keeping size of surviving shapes\n",
    "    opened_mask = cv2.morphologyEx(non_eroded_mask, cv2.MORPH_OPEN, kernel, iterations=3)\n",
    "\n",
    "    # Heavy erosion to separate shapes\n",
    "    separated_mask = cv2.erode(opened_mask, kernel, iterations=7)\n",
    "\n",
    "    return separated_mask"
   ]
  },
  {
   "cell_type": "code",
   "execution_count": 177,
   "id": "fd6b5ee0",
   "metadata": {},
   "outputs": [],
   "source": [
    "def filter_countours_compactness(old_mask, contours, min_area=1845, max_compactness=55, min_perimeter=0):\n",
    "\n",
    "    # Create empty mask from old mask shape\n",
    "    new_mask = np.zeros_like(old_mask)\n",
    "\n",
    "    for contour in contours:\n",
    "\n",
    "        # Get area/perimeter for each contour\n",
    "        area = cv2.contourArea(contour)\n",
    "        perimeter = cv2.arcLength(contour, True)\n",
    "        \n",
    "        # Filter by area and compactness of shape\n",
    "        if area > min_area and perimeter > min_perimeter and (perimeter * perimeter) / area < max_compactness:\n",
    "            # Draw passing contours on new mask\n",
    "            cv2.fillPoly(new_mask, [contour], 255)\n",
    "    \n",
    "    return new_mask"
   ]
  },
  {
   "cell_type": "code",
   "execution_count": 178,
   "id": "a8490b21",
   "metadata": {},
   "outputs": [],
   "source": [
    "def dilate_to_undo_erosion(clean_mask):\n",
    "\n",
    "    # Undo erosion that filled gaps\n",
    "    erosion_kernel = cv2.getStructuringElement(cv2.MORPH_ELLIPSE, (15, 15))\n",
    "    final_mask = cv2.dilate(clean_mask, erosion_kernel, iterations=2)\n",
    "\n",
    "    # Undo heavy erosion that separated shapes\n",
    "    kernel = cv2.getStructuringElement(cv2.MORPH_ELLIPSE, (9, 9))\n",
    "    final_mask = cv2.dilate(final_mask, kernel, iterations=7)\n",
    "\n",
    "    return final_mask"
   ]
  },
  {
   "cell_type": "code",
   "execution_count": 179,
   "id": "eed6c2b9",
   "metadata": {},
   "outputs": [],
   "source": [
    "def get_rigid_contours(contours, epsilon_size=0.01):\n",
    "\n",
    "    rigid_contours = []\n",
    "\n",
    "    for contour in contours:\n",
    "        \n",
    "        # Approximate contour with fewer points\n",
    "        epsilon = epsilon_size * cv2.arcLength(contour, True)\n",
    "        approx = cv2.approxPolyDP(contour, epsilon, True)\n",
    "        rigid_contours.append(approx)\n",
    "    \n",
    "    return rigid_contours"
   ]
  },
  {
   "cell_type": "code",
   "execution_count": 180,
   "id": "d688f452",
   "metadata": {},
   "outputs": [],
   "source": [
    "def get_hull_contours(contours):\n",
    "\n",
    "    hull_contours = []\n",
    "    \n",
    "    for contour in contours:\n",
    "        \n",
    "        # Get convex hull of contour\n",
    "        hull = cv2.convexHull(contour)\n",
    "        hull_contours.append(hull)\n",
    "    \n",
    "    return hull_contours"
   ]
  },
  {
   "cell_type": "code",
   "execution_count": 181,
   "id": "6879da4c",
   "metadata": {},
   "outputs": [],
   "source": [
    "def filter_noise_contours(contours, min_area=1000):\n",
    "\n",
    "    # Remove noise\n",
    "    filtered_contours = []\n",
    "\n",
    "    for contour in contours:\n",
    "        \n",
    "        area = cv2.contourArea(contour)\n",
    "\n",
    "        # How much noise to filter\n",
    "        if area > min_area:\n",
    "            filtered_contours.append(contour)\n",
    "    \n",
    "    return filtered_contours"
   ]
  },
  {
   "cell_type": "code",
   "execution_count": 182,
   "id": "7c38b0b6",
   "metadata": {},
   "outputs": [],
   "source": [
    "def get_centers(contours):\n",
    "\n",
    "    # Calculate centers of contours\n",
    "    centers = []\n",
    "\n",
    "    for contour in contours:\n",
    "\n",
    "        # Calculate moments\n",
    "        M = cv2.moments(contour)\n",
    "        \n",
    "        if M[\"m00\"] != 0: \n",
    "\n",
    "            # x coord\n",
    "            cx = int(M[\"m10\"] / M[\"m00\"])\n",
    "\n",
    "            # y coord\n",
    "            cy = int(M[\"m01\"] / M[\"m00\"])\n",
    "\n",
    "            centers.append((cx, cy))\n",
    "    \n",
    "    return centers"
   ]
  },
  {
   "cell_type": "markdown",
   "id": "3f48887c",
   "metadata": {},
   "source": [
    "File Names/Dirs"
   ]
  },
  {
   "cell_type": "code",
   "execution_count": 183,
   "id": "36d22126",
   "metadata": {},
   "outputs": [],
   "source": [
    "file_dir = \"data\"\n",
    "file_name = \"PennAir 2024 App Dynamic.mp4\"\n",
    "file = os.path.join(file_dir, file_name)"
   ]
  },
  {
   "cell_type": "code",
   "execution_count": 184,
   "id": "0154c341",
   "metadata": {},
   "outputs": [],
   "source": [
    "output_dir = os.path.join(\"output\", \"consistency\")\n",
    "output_name = f\"annotated_{file_name}\"\n",
    "output = os.path.join(output_dir, output_name)"
   ]
  },
  {
   "cell_type": "markdown",
   "id": "fc81f09c",
   "metadata": {},
   "source": [
    "Load Video"
   ]
  },
  {
   "cell_type": "code",
   "execution_count": 185,
   "id": "75c14423",
   "metadata": {},
   "outputs": [],
   "source": [
    "vid = cv2.VideoCapture(file)"
   ]
  },
  {
   "cell_type": "code",
   "execution_count": 186,
   "id": "b7f0f94a",
   "metadata": {},
   "outputs": [],
   "source": [
    "# Video properties\n",
    "fps = vid.get(cv2.CAP_PROP_FPS)\n",
    "width = int(vid.get(cv2.CAP_PROP_FRAME_WIDTH))\n",
    "height = int(vid.get(cv2.CAP_PROP_FRAME_HEIGHT))\n",
    "\n",
    "# Video writer to save output video\n",
    "fourcc = cv2.VideoWriter_fourcc(*\"mp4v\")\n",
    "out_vid = cv2.VideoWriter(output, fourcc, fps, (width, height))"
   ]
  },
  {
   "cell_type": "code",
   "execution_count": 187,
   "id": "03fa7ad6",
   "metadata": {},
   "outputs": [
    {
     "ename": "KeyboardInterrupt",
     "evalue": "",
     "output_type": "error",
     "traceback": [
      "\u001b[0;31m---------------------------------------------------------------------------\u001b[0m",
      "\u001b[0;31mKeyboardInterrupt\u001b[0m                         Traceback (most recent call last)",
      "Cell \u001b[0;32mIn[187], line 57\u001b[0m\n\u001b[1;32m     54\u001b[0m     cv2\u001b[38;5;241m.\u001b[39mcircle(result_frame, center, \u001b[38;5;241m5\u001b[39m, (\u001b[38;5;241m10\u001b[39m, \u001b[38;5;241m10\u001b[39m, \u001b[38;5;241m10\u001b[39m), \u001b[38;5;241m-\u001b[39m\u001b[38;5;241m1\u001b[39m)\n\u001b[1;32m     56\u001b[0m \u001b[38;5;66;03m# Write output\u001b[39;00m\n\u001b[0;32m---> 57\u001b[0m \u001b[43mout_vid\u001b[49m\u001b[38;5;241;43m.\u001b[39;49m\u001b[43mwrite\u001b[49m\u001b[43m(\u001b[49m\u001b[43mresult_frame\u001b[49m\u001b[43m)\u001b[49m\n\u001b[1;32m     59\u001b[0m \u001b[38;5;28;01mif\u001b[39;00m show_steps:\n\u001b[1;32m     60\u001b[0m     \u001b[38;5;66;03m# Display results\u001b[39;00m\n\u001b[1;32m     61\u001b[0m     cv2\u001b[38;5;241m.\u001b[39mimshow(\u001b[38;5;124m'\u001b[39m\u001b[38;5;124mVideo Results\u001b[39m\u001b[38;5;124m'\u001b[39m, result_frame)\n",
      "\u001b[0;31mKeyboardInterrupt\u001b[0m: "
     ]
    }
   ],
   "source": [
    "# Loop through video frames\n",
    "while True:\n",
    "    ret, frame = vid.read()\n",
    "\n",
    "    # Break if no frame is returned\n",
    "    if not ret:\n",
    "        break\n",
    "    \n",
    "    # Convert to grayscale\n",
    "    gray = cv2.cvtColor(frame, cv2.COLOR_BGR2GRAY)\n",
    "\n",
    "    # Consistency detection to create mask\n",
    "    consistency_mask = edge_consistency_mask(gray)\n",
    "\n",
    "    # Remove noise and erode\n",
    "    cleaned_mask = remove_noise_and_erode(consistency_mask)\n",
    "\n",
    "    # Smooth\n",
    "    smooth_mask = smooth_mask_and_fill_gaps(cleaned_mask)\n",
    "\n",
    "    # Erode\n",
    "    eroded_mask = heavy_erode(smooth_mask)\n",
    "    \n",
    "    # Find contours\n",
    "    contours, _ = cv2.findContours(eroded_mask, cv2.RETR_EXTERNAL, cv2.CHAIN_APPROX_SIMPLE)\n",
    "\n",
    "    # Filter contours by compactness\n",
    "    clean_mask = filter_countours_compactness(eroded_mask, contours)\n",
    "\n",
    "    # Undo erosion\n",
    "    final_mask = dilate_to_undo_erosion(clean_mask)\n",
    "\n",
    "    # Find/Draw Outlines and Centers\n",
    "    contours, _ = cv2.findContours(final_mask, cv2.RETR_EXTERNAL, cv2.CHAIN_APPROX_SIMPLE)\n",
    "\n",
    "    # Make contours more rigid\n",
    "    rigid_contours = get_rigid_contours(contours)\n",
    "\n",
    "    # Make contours convex\n",
    "    hull_contours = get_hull_contours(rigid_contours)\n",
    "\n",
    "    filtered_contours = filter_noise_contours(hull_contours)\n",
    "    \n",
    "    centers = get_centers(filtered_contours)\n",
    "\n",
    "    # Copy original frame\n",
    "    result_frame = frame.copy()\n",
    "\n",
    "    # Draw contours\n",
    "    cv2.drawContours(result_frame, filtered_contours, -1, (10, 10, 10), 2)\n",
    "\n",
    "    # Draw centers\n",
    "    for center in centers:\n",
    "        cv2.circle(result_frame, center, 5, (10, 10, 10), -1)\n",
    "    \n",
    "    # Write output\n",
    "    out_vid.write(result_frame)\n",
    "    \n",
    "    if show_steps:\n",
    "        # Display results\n",
    "        cv2.imshow('Video Results', result_frame)\n",
    "        if cv2.waitKey(1) & 0xFF == 13:\n",
    "            break\n",
    "\n",
    "vid.release()\n",
    "out_vid.release()\n",
    "cv2.destroyAllWindows()\n",
    "cv2.waitKey(1)"
   ]
  }
 ],
 "metadata": {
  "kernelspec": {
   "display_name": "3.12.2",
   "language": "python",
   "name": "python3"
  },
  "language_info": {
   "codemirror_mode": {
    "name": "ipython",
    "version": 3
   },
   "file_extension": ".py",
   "mimetype": "text/x-python",
   "name": "python",
   "nbconvert_exporter": "python",
   "pygments_lexer": "ipython3",
   "version": "3.12.2"
  }
 },
 "nbformat": 4,
 "nbformat_minor": 5
}
